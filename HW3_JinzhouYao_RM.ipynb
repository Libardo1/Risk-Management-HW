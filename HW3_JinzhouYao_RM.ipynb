{
 "cells": [
  {
   "cell_type": "markdown",
   "metadata": {},
   "source": [
    "### Risk Management HW3\n",
    "### Jinzhou Yao"
   ]
  },
  {
   "cell_type": "code",
   "execution_count": 6,
   "metadata": {},
   "outputs": [],
   "source": [
    "from yahoofinancials import YahooFinancials\n",
    "import pandas as pd\n",
    "from pandas_datareader import data\n",
    "import numpy as np\n",
    "from math import sqrt, pi, log, e, erf\n",
    "from scipy.stats import norm\n",
    "from scipy.stats import multivariate_normal\n",
    "from scipy.optimize import fsolve"
   ]
  },
  {
   "cell_type": "markdown",
   "metadata": {},
   "source": [
    "### Collect one year daily stock prices for 10 companies. "
   ]
  },
  {
   "cell_type": "code",
   "execution_count": 30,
   "metadata": {},
   "outputs": [
    {
     "name": "stdout",
     "output_type": "stream",
     "text": [
      "Symbols           AAPL         AMZN        BABA          FB         GOOG  \\\n",
      "Date                                                                       \n",
      "2018-04-02  164.180008  1371.989990  177.610001  155.389999  1006.469971   \n",
      "2018-04-03  165.864349  1392.050049  174.669998  156.110001  1013.409973   \n",
      "2018-04-04  169.036072  1410.569946  172.070007  155.100006  1025.140015   \n",
      "2018-04-05  170.208206  1451.750000  172.570007  159.339996  1027.810059   \n",
      "2018-04-06  165.854523  1405.229980  167.520004  157.199997  1007.039978   \n",
      "\n",
      "Symbols            IBM       MSFT        TSLA         VZ        XOM  \n",
      "Date                                                                 \n",
      "2018-04-02  143.319534  87.050652  252.479996  44.606892  70.245407  \n",
      "2018-04-03  143.109436  88.220894  267.529999  44.928486  71.972282  \n",
      "2018-04-04  147.187363  90.797409  286.940002  45.335209  71.828377  \n",
      "2018-04-05  147.101395  90.846581  305.720001  45.628426  72.931656  \n",
      "2018-04-06  143.797058  88.732277  299.299988  44.909573  71.828377  \n"
     ]
    }
   ],
   "source": [
    "tickers = ['MSFT', 'AAPL', 'AMZN', 'VZ','XOM','TSLA','FB','IBM','GOOG','BABA']\n",
    "start_date = '2018-04-01'\n",
    "end_date = '2019-04-01'\n",
    "panel_data = data.DataReader(tickers, 'yahoo', start_date, end_date)\n",
    "adjclose = panel_data['Adj Close']\n",
    "adjclose = adjclose.fillna(method='ffill')\n",
    "print(adjclose.head())"
   ]
  },
  {
   "cell_type": "markdown",
   "metadata": {},
   "source": [
    "### Compute daily returns, and then mean and standard deviation. "
   ]
  },
  {
   "cell_type": "code",
   "execution_count": 31,
   "metadata": {},
   "outputs": [
    {
     "name": "stdout",
     "output_type": "stream",
     "text": [
      "Return:\n",
      " Symbols         AAPL      AMZN      BABA        FB      GOOG       IBM  \\\n",
      "Date                                                                     \n",
      "2018-04-03  0.010259  0.014621 -0.016553  0.004634  0.006895 -0.001466   \n",
      "2018-04-04  0.019122  0.013304 -0.014885 -0.006470  0.011575  0.028495   \n",
      "2018-04-05  0.006934  0.029194  0.002906  0.027337  0.002605 -0.000584   \n",
      "2018-04-06 -0.025579 -0.032044 -0.029264 -0.013430 -0.020208 -0.022463   \n",
      "2018-04-09  0.009918  0.000605  0.014028  0.004644  0.008351  0.014080   \n",
      "\n",
      "Symbols         MSFT      TSLA        VZ       XOM  \n",
      "Date                                                \n",
      "2018-04-03  0.013443  0.059609  0.007210  0.024583  \n",
      "2018-04-04  0.029205  0.072553  0.009053 -0.001999  \n",
      "2018-04-05  0.000542  0.065449  0.006468  0.015360  \n",
      "2018-04-06 -0.023273 -0.021000 -0.015754 -0.015128  \n",
      "2018-04-09  0.005985 -0.032208  0.000640  0.000000  \n",
      "Mean:\n",
      " Symbols\n",
      "AAPL    0.000844\n",
      "AMZN    0.001359\n",
      "BABA    0.000324\n",
      "FB      0.000747\n",
      "GOOG    0.000835\n",
      "IBM     0.000107\n",
      "MSFT    0.001379\n",
      "TSLA    0.001184\n",
      "VZ      0.001115\n",
      "XOM     0.000665\n",
      "dtype: float64\n",
      "Standard deviation:\n",
      " Symbols\n",
      "AAPL    0.018991\n",
      "AMZN    0.022373\n",
      "BABA    0.021597\n",
      "FB      0.023881\n",
      "GOOG    0.016429\n",
      "IBM     0.015169\n",
      "MSFT    0.016223\n",
      "TSLA    0.037408\n",
      "VZ      0.012380\n",
      "XOM     0.012708\n",
      "dtype: float64\n"
     ]
    }
   ],
   "source": [
    "ret =adjclose.diff()/adjclose.shift(1)\n",
    "ret.drop(ret.index[0], inplace=True)\n",
    "mu = ret.apply(np.average, axis=0)\n",
    "sigma = ret.apply(np.std, axis=0)\n",
    "print(\"Return:\\n\",ret.head())\n",
    "print(\"Mean:\\n\",mu)\n",
    "print(\"Standard deviation:\\n\",sigma)"
   ]
  },
  {
   "cell_type": "markdown",
   "metadata": {},
   "source": [
    "### Collect long-term liabilities of each firm3"
   ]
  },
  {
   "cell_type": "code",
   "execution_count": 32,
   "metadata": {},
   "outputs": [
    {
     "name": "stdout",
     "output_type": "stream",
     "text": [
      "Long-term liabilities:\n",
      " MSFT    117.642000\n",
      "AAPL    141.712000\n",
      "AMZN     50.708000\n",
      "VZ      172.189000\n",
      "XOM      90.530000\n",
      "TSLA     13.433874\n",
      "FB        6.190000\n",
      "IBM      68.225000\n",
      "GOOG     20.544000\n",
      "BABA    144.876000\n",
      "dtype: float64\n"
     ]
    }
   ],
   "source": [
    "yahoo_financials = YahooFinancials(tickers)\n",
    "balance_sheet_data = yahoo_financials.get_financial_stmts('annual', 'balance')\n",
    "balance_sheet_all = balance_sheet_data['balanceSheetHistory']\n",
    "total_liab = {}\n",
    "short_liab = {}\n",
    "equity = {}\n",
    "for key, value in balance_sheet_all.items():\n",
    "    a = value[0]\n",
    "    for k1, v1 in a.items():\n",
    "        total_liab[key] = v1['totalLiab']\n",
    "        short_liab[key] = v1['totalCurrentLiabilities']\n",
    "        equity[key] = v1['totalStockholderEquity']\n",
    "total = pd.Series(total_liab)\n",
    "short = pd.Series(short_liab)\n",
    "long=total-short\n",
    "equity = pd.Series(equity)\n",
    "print(\"Long-term liabilities:\\n\",long/1000000000)"
   ]
  },
  {
   "cell_type": "markdown",
   "metadata": {},
   "source": [
    "### Sharp Ratio"
   ]
  },
  {
   "cell_type": "code",
   "execution_count": 33,
   "metadata": {},
   "outputs": [
    {
     "data": {
      "text/plain": [
       "Symbols\n",
       "AAPL    0.628771\n",
       "AMZN    0.898894\n",
       "BABA    0.170301\n",
       "FB      0.435298\n",
       "GOOG    0.717363\n",
       "IBM     0.015158\n",
       "MSFT    1.259302\n",
       "TSLA    0.463179\n",
       "VZ      1.310906\n",
       "XOM     0.715182\n",
       "dtype: float64"
      ]
     },
     "execution_count": 33,
     "metadata": {},
     "output_type": "execute_result"
    }
   ],
   "source": [
    "sharp=(mu*252-0.02325)/(sigma*sqrt(252))\n",
    "sharp"
   ]
  }
 ],
 "metadata": {
  "kernelspec": {
   "display_name": "Python 3",
   "language": "python",
   "name": "python3"
  },
  "language_info": {
   "codemirror_mode": {
    "name": "ipython",
    "version": 3
   },
   "file_extension": ".py",
   "mimetype": "text/x-python",
   "name": "python",
   "nbconvert_exporter": "python",
   "pygments_lexer": "ipython3",
   "version": "3.7.1"
  }
 },
 "nbformat": 4,
 "nbformat_minor": 2
}
