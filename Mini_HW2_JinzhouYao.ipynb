{
 "cells": [
  {
   "cell_type": "markdown",
   "metadata": {},
   "source": [
    "# Set variable value using Chen-Scott estimation"
   ]
  },
  {
   "cell_type": "code",
   "execution_count": 1,
   "metadata": {},
   "outputs": [],
   "source": [
    "#Author Jinzhou Yao\n",
    "#Last Edit Date 4/8/2019 \n",
    "import numpy as np\n",
    "alpha1=1.8341\n",
    "mu1=0.05148\n",
    "sigma1=0.1543\n",
    "lambda1=-0.1253\n",
    "alpha2=0.005212\n",
    "mu2=0.03083\n",
    "sigma2=0.06689\n",
    "lambda2=-0.0665\n",
    "#Here I assume T=1 to simplify calculation, T represent bond's maturity and it \n",
    "#can be any reasonable value\n",
    "T = 1\n",
    "t = 0\n",
    "y1 = 0.015\n",
    "y2 = 0.01\n",
    "N=470"
   ]
  },
  {
   "cell_type": "markdown",
   "metadata": {},
   "source": [
    "# Calculate gamma, A and B"
   ]
  },
  {
   "cell_type": "code",
   "execution_count": 2,
   "metadata": {},
   "outputs": [],
   "source": [
    "gamma1=np.sqrt((alpha1+lambda1)**2+2*sigma1**2)\n",
    "gamma2=np.sqrt((alpha2+lambda2)**2+2*sigma2**2)\n",
    "A1=pow((2*gamma1*np.exp((alpha1+lambda1+gamma1)*(T-t)/2))/(((alpha1+lambda1+gamma1)*(np.exp(gamma1*(T-t))-1))+2*gamma1),2*alpha1*mu1/(sigma1**2))\n",
    "A2=pow((2*gamma2*np.exp((alpha2+lambda2+gamma2)*(T-t)/2))/(((alpha2+lambda2+gamma2)*(np.exp(gamma2*(T-t))-1))+2*gamma2),2*alpha2*mu2/(sigma2**2))\n",
    "B1=2*(np.exp(gamma1*(T-t))-1)/((alpha1 + lambda1+gamma1)*(np.exp(gamma1 * (T-t))-1)+2*gamma1)\n",
    "B2=2*(np.exp(gamma2*(T-t))-1)/((alpha2 + lambda2+gamma2)*(np.exp(gamma2 * (T-t))-1)+2*gamma2)"
   ]
  },
  {
   "cell_type": "markdown",
   "metadata": {},
   "source": [
    "# Now we can calculate P and a(k)"
   ]
  },
  {
   "cell_type": "code",
   "execution_count": 3,
   "metadata": {},
   "outputs": [],
   "source": [
    "P = A1*A2*np.exp(-B1*y1-B2*y2)\n",
    "#Suppose the coupon rate is 0.05 and it is paid at the end of the year(the easiest situation to be calculated).\n",
    "#Of course we can assume coupon is paid semi-annually or other different situation but basically the calculation\n",
    "#process is the same except we need to use the multi-time form formula of a(k)\n",
    "c=0.05\n",
    "a1=-c*B1*P-B1*P\n",
    "a2=-c*B2*P-B2*P"
   ]
  },
  {
   "cell_type": "markdown",
   "metadata": {},
   "source": [
    "# To get VaR(5%), the only thing left to be calculate here is v(k)"
   ]
  },
  {
   "cell_type": "code",
   "execution_count": 4,
   "metadata": {},
   "outputs": [],
   "source": [
    "#Using Monte Carlo simulation\n",
    "dy1 = list()\n",
    "dy2 = list()\n",
    "dt=1/52\n",
    "np.random.seed(0)\n",
    "for i in range(N):\n",
    "    #Suppose weekly interest rate\n",
    "    dw = np.random.normal(0,dt)\n",
    "    dy1_ = alpha1* (mu1-y1)*dt + sigma1*np.sqrt(y1)*dw\n",
    "    dy2_ = alpha2* (mu2-y2)*dt + sigma2*np.sqrt(y2)*dw\n",
    "    dy1.append(dy1_)\n",
    "    dy2.append(dy2_)\n",
    "    y1=y1+dy1_\n",
    "    y2=y2+dy2_\n",
    "v1 = np.std(dy1)\n",
    "v2 = np.std(dy2)\n",
    "#***********************************************************\n",
    "# #Or we can approximately use the formula below as v1,v2\n",
    "# #However, this is not accurate since y1,y2 change along time\n",
    "# v1 = sigma1*y1\n",
    "# v2 = sigma2*y2"
   ]
  },
  {
   "cell_type": "markdown",
   "metadata": {},
   "source": [
    "# Put all parameters into matrix B and V"
   ]
  },
  {
   "cell_type": "code",
   "execution_count": 5,
   "metadata": {},
   "outputs": [],
   "source": [
    "B=np.array([[-P*B1,a1],\n",
    "            [-P*B2,a2]])\n",
    "V=np.array([[v1**2,0],\n",
    "          [0,v2**2]])"
   ]
  },
  {
   "cell_type": "markdown",
   "metadata": {},
   "source": [
    "# Finally we can calculate VaR(5%) of this portfolio"
   ]
  },
  {
   "cell_type": "code",
   "execution_count": 6,
   "metadata": {},
   "outputs": [
    {
     "name": "stdout",
     "output_type": "stream",
     "text": [
      "VaR for this portfolio is  0.0011466236486714252\n"
     ]
    }
   ],
   "source": [
    "#Suppose we invest 1 unit in P and 1 unit in Π\n",
    "n=np.array([1,1])\n",
    "var_covar=np.matmul(B.T,V).dot(B)\n",
    "VaR=1.645*np.sqrt(np.matmul(n.T,var_covar).dot(n))\n",
    "print('VaR for this portfolio is ',VaR)"
   ]
  }
 ],
 "metadata": {
  "kernelspec": {
   "display_name": "Python 3",
   "language": "python",
   "name": "python3"
  },
  "language_info": {
   "codemirror_mode": {
    "name": "ipython",
    "version": 3
   },
   "file_extension": ".py",
   "mimetype": "text/x-python",
   "name": "python",
   "nbconvert_exporter": "python",
   "pygments_lexer": "ipython3",
   "version": "3.7.1"
  }
 },
 "nbformat": 4,
 "nbformat_minor": 2
}
